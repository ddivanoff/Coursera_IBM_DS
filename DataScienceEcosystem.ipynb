{
 "cells": [
  {
   "cell_type": "markdown",
   "id": "16b66a26-169c-4fd0-a30b-201ea3a6e844",
   "metadata": {},
   "source": [
    "# Data Science Tools and Ecosystem"
   ]
  },
  {
   "cell_type": "markdown",
   "id": "ad24849f-ed06-40c5-8aaa-b04b1e8c9251",
   "metadata": {},
   "source": [
    "In this notebook, Data Science Tools and Ecosystem are summarized."
   ]
  },
  {
   "cell_type": "markdown",
   "id": "1cae837b-61b5-4319-b8a3-949c386c5c1f",
   "metadata": {},
   "source": [
    "**Some of the key takeawas from the course**\n",
    "\n",
    "**Objectives:**\n",
    "- List some of the popular languages that Data Scientists use\n",
    "- Some of the commonly used libraries used by Data Scientist\n",
    "- Evaluating arithmetic operations\n",
    "- Creating Markdown table\n",
    "- Adopting different format styles of headers in Jupyter Notebook"
   ]
  },
  {
   "cell_type": "markdown",
   "id": "031f19d1-b08d-4f93-a98c-82a8832eab4f",
   "metadata": {},
   "source": [
    "Some of the popular languages that Data Scientists use are:"
   ]
  },
  {
   "cell_type": "code",
   "execution_count": 9,
   "id": "45843517-ebe8-4790-86ce-085e432f4850",
   "metadata": {},
   "outputs": [
    {
     "name": "stdout",
     "output_type": "stream",
     "text": [
      "\n",
      "Some of the popular languages that Data Scientists use are:\n",
      "\n",
      " 1-Python 2-R 3-SQL 4-NoSQL 5-Spark 6-PySpark\n"
     ]
    }
   ],
   "source": [
    "lng_list = ['1-Python', '2-R', '3-SQL', '4-NoSQL', '5-Spark', '6-PySpark']\n",
    "print('\\nSome of the popular languages that Data Scientists use are:\\n\\n', *lng_list)"
   ]
  },
  {
   "cell_type": "markdown",
   "id": "4adc4e61-61ba-4adf-a892-a03e88c13447",
   "metadata": {},
   "source": [
    "Some of the commonly used libraries used by Data Scientists include:"
   ]
  },
  {
   "cell_type": "code",
   "execution_count": 10,
   "id": "6e6a5c93-3ca5-4063-ae3a-d30ad653f3b9",
   "metadata": {},
   "outputs": [
    {
     "name": "stdout",
     "output_type": "stream",
     "text": [
      "\n",
      "Some of the popular languages that Data Scientists use are:\n",
      "\n",
      " 1-scikit-learn 2-imbalanced-learn 3-Tensorflow 4-PyTorch 5-Keras\n"
     ]
    }
   ],
   "source": [
    "lib_list = ['1-scikit-learn', '2-imbalanced-learn', '3-Tensorflow', '4-PyTorch', '5-Keras']\n",
    "print('\\nSome of the popular languages that Data Scientists use are:\\n\\n', *lib_list)"
   ]
  },
  {
   "cell_type": "markdown",
   "id": "89a558d1-6a51-4b55-b471-2e38378d4e09",
   "metadata": {},
   "source": [
    "| **Data Science Tools**       |\n",
    "|-----------------------------|\n",
    "| Jupyter Notebook            |\n",
    "| RStudio                     |\n",
    "| Apache Zeppelin             |"
   ]
  },
  {
   "cell_type": "markdown",
   "id": "2f09f87c-542a-4205-8a54-7a7323b99cdb",
   "metadata": {},
   "source": [
    "### Below are a few examples of evaluating arithmetic expressions in Python."
   ]
  },
  {
   "cell_type": "code",
   "execution_count": 7,
   "id": "83b06bdf-31e8-4865-9ebe-fcd7cfd63161",
   "metadata": {},
   "outputs": [
    {
     "name": "stdout",
     "output_type": "stream",
     "text": [
      "\n",
      "Result =  17\n",
      "\n",
      "Sanity check:  True\n"
     ]
    }
   ],
   "source": [
    "# This a simple arithmetic expression to mutiply then add integers\n",
    "\n",
    "Result = (3*4)+5\n",
    "\n",
    "print('\\nResult = ', Result)\n",
    "print('\\nSanity check: ', 17 == Result)"
   ]
  },
  {
   "cell_type": "code",
   "execution_count": 8,
   "id": "aaa5b5e1-490b-474f-b541-0f988d25ed7d",
   "metadata": {},
   "outputs": [
    {
     "name": "stdout",
     "output_type": "stream",
     "text": [
      "\n",
      "Result =  3.3333333333333335\n"
     ]
    }
   ],
   "source": [
    "# This will convert 200 minutes to hours by diving by 60\n",
    "\n",
    "Result = 200/60\n",
    "print('\\nResult = ', Result)"
   ]
  },
  {
   "cell_type": "markdown",
   "id": "1d661421-6dcc-47e1-b1c3-409e33aa00d6",
   "metadata": {},
   "source": [
    "## Author "
   ]
  },
  {
   "cell_type": "markdown",
   "id": "6c95472a-8f3f-49d0-bb8f-d270a0511904",
   "metadata": {},
   "source": [
    "Deyan Ivanov"
   ]
  },
  {
   "cell_type": "code",
   "execution_count": null,
   "id": "ff3f1689-2131-4898-bc0e-9015e38394b5",
   "metadata": {},
   "outputs": [],
   "source": []
  }
 ],
 "metadata": {
  "kernelspec": {
   "display_name": "Python 3 (ipykernel)",
   "language": "python",
   "name": "python3"
  },
  "language_info": {
   "codemirror_mode": {
    "name": "ipython",
    "version": 3
   },
   "file_extension": ".py",
   "mimetype": "text/x-python",
   "name": "python",
   "nbconvert_exporter": "python",
   "pygments_lexer": "ipython3",
   "version": "3.12.8"
  }
 },
 "nbformat": 4,
 "nbformat_minor": 5
}
